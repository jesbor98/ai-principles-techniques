{
 "cells": [
  {
   "cell_type": "markdown",
   "metadata": {
    "id": "HcsuAZCtLb7A"
   },
   "source": [
    "# Variable elimination in Python using pgmpy\n",
    "\n",
    "Notebook by Mika van Emmerloot  \n",
    "Package `pgmpy` by Ankur Ankan (currently a PhD student in causal inference at Radboud)  \n",
    "https://pgmpy.org/index.html"
   ]
  },
  {
   "cell_type": "code",
   "execution_count": 1,
   "metadata": {
    "colab": {
     "base_uri": "https://localhost:8080/"
    },
    "id": "k28iBdwlLWej",
    "outputId": "83af570b-0dd1-4396-b6f5-14a9e0eabae6"
   },
   "outputs": [
    {
     "name": "stdout",
     "output_type": "stream",
     "text": [
      "Collecting pgmpy\n",
      "  Downloading pgmpy-0.1.24-py3-none-any.whl.metadata (6.3 kB)\n",
      "Collecting networkx (from pgmpy)\n",
      "  Downloading networkx-3.2.1-py3-none-any.whl.metadata (5.2 kB)\n",
      "Requirement already satisfied: numpy in c:\\users\\amand\\anaconda3\\envs\\myenv\\lib\\site-packages (from pgmpy) (1.26.0)\n",
      "Requirement already satisfied: scipy in c:\\users\\amand\\anaconda3\\envs\\myenv\\lib\\site-packages (from pgmpy) (1.11.3)\n",
      "Requirement already satisfied: scikit-learn in c:\\users\\amand\\anaconda3\\envs\\myenv\\lib\\site-packages (from pgmpy) (1.3.0)\n",
      "Requirement already satisfied: pandas in c:\\users\\amand\\anaconda3\\envs\\myenv\\lib\\site-packages (from pgmpy) (2.1.1)\n",
      "Requirement already satisfied: pyparsing in c:\\users\\amand\\anaconda3\\envs\\myenv\\lib\\site-packages (from pgmpy) (3.0.9)\n",
      "INFO: pip is looking at multiple versions of pgmpy to determine which version is compatible with other requirements. This could take a while.\n",
      "Collecting pgmpy\n",
      "  Downloading pgmpy-0.1.23-py3-none-any.whl.metadata (6.3 kB)\n",
      "  Downloading pgmpy-0.1.22-py3-none-any.whl (1.9 MB)\n",
      "     ---------------------------------------- 0.0/1.9 MB ? eta -:--:--\n",
      "      --------------------------------------- 0.0/1.9 MB ? eta -:--:--\n",
      "      --------------------------------------- 0.0/1.9 MB ? eta -:--:--\n",
      "     --------------- ------------------------ 0.7/1.9 MB 5.8 MB/s eta 0:00:01\n",
      "     ------------------------------------ --- 1.8/1.9 MB 9.3 MB/s eta 0:00:01\n",
      "     ---------------------------------------- 1.9/1.9 MB 9.5 MB/s eta 0:00:00\n",
      "  Downloading pgmpy-0.1.21-py3-none-any.whl (1.9 MB)\n",
      "     ---------------------------------------- 0.0/1.9 MB ? eta -:--:--\n",
      "     --------------------- ------------------ 1.0/1.9 MB 33.4 MB/s eta 0:00:01\n",
      "     --------------------- ------------------ 1.0/1.9 MB 33.4 MB/s eta 0:00:01\n",
      "     --------------------- ------------------ 1.0/1.9 MB 33.4 MB/s eta 0:00:01\n",
      "     ------------------------------ --------- 1.5/1.9 MB 8.4 MB/s eta 0:00:01\n",
      "     ---------------------------------------  1.9/1.9 MB 10.1 MB/s eta 0:00:01\n",
      "     ---------------------------------------- 1.9/1.9 MB 7.7 MB/s eta 0:00:00\n",
      "  Downloading pgmpy-0.1.20-py3-none-any.whl (1.9 MB)\n",
      "     ---------------------------------------- 0.0/1.9 MB ? eta -:--:--\n",
      "     --------------------- ------------------ 1.0/1.9 MB 64.6 MB/s eta 0:00:01\n",
      "     --------------------- ------------------ 1.0/1.9 MB 64.6 MB/s eta 0:00:01\n",
      "     --------------------- ------------------ 1.0/1.9 MB 64.6 MB/s eta 0:00:01\n",
      "     ------------------------- -------------- 1.2/1.9 MB 7.0 MB/s eta 0:00:01\n",
      "     ---------------------------------------  1.9/1.9 MB 9.4 MB/s eta 0:00:01\n",
      "     ---------------------------------------- 1.9/1.9 MB 7.2 MB/s eta 0:00:00\n",
      "  Downloading pgmpy-0.1.19-py3-none-any.whl (1.9 MB)\n",
      "     ---------------------------------------- 0.0/1.9 MB ? eta -:--:--\n",
      "     ---------------------------------------  1.9/1.9 MB 40.5 MB/s eta 0:00:01\n",
      "     ---------------------------------------- 1.9/1.9 MB 24.5 MB/s eta 0:00:00\n",
      "  Downloading pgmpy-0.1.18-py3-none-any.whl (1.9 MB)\n",
      "     ---------------------------------------- 0.0/1.9 MB ? eta -:--:--\n",
      "     --------------------- ------------------ 1.0/1.9 MB 68.9 MB/s eta 0:00:01\n",
      "     ---------------------------------------- 1.9/1.9 MB 24.5 MB/s eta 0:00:00\n",
      "  Downloading pgmpy-0.1.17-py3-none-any.whl (1.9 MB)\n",
      "     ---------------------------------------- 0.0/1.9 MB ? eta -:--:--\n",
      "     ------------------------------------- -- 1.8/1.9 MB 56.6 MB/s eta 0:00:01\n",
      "     ---------------------------------------- 1.9/1.9 MB 40.7 MB/s eta 0:00:00\n",
      "INFO: pip is still looking at multiple versions of pgmpy to determine which version is compatible with other requirements. This could take a while.\n",
      "  Downloading pgmpy-0.1.16-py3-none-any.whl (1.9 MB)\n",
      "     ---------------------------------------- 0.0/1.9 MB ? eta -:--:--\n",
      "     ------------------------ --------------- 1.2/1.9 MB 25.3 MB/s eta 0:00:01\n",
      "     ---------------------------------------- 1.9/1.9 MB 24.2 MB/s eta 0:00:00\n",
      "  Downloading pgmpy-0.1.15-py3-none-any.whl (1.9 MB)\n",
      "     ---------------------------------------- 0.0/1.9 MB ? eta -:--:--\n",
      "     ---------------------- ----------------- 1.0/1.9 MB 68.9 MB/s eta 0:00:01\n",
      "     ---------------------------------------  1.9/1.9 MB 30.2 MB/s eta 0:00:01\n",
      "     ---------------------------------------- 1.9/1.9 MB 20.2 MB/s eta 0:00:00\n",
      "  Downloading pgmpy-0.1.14-py3-none-any.whl (331 kB)\n",
      "     ---------------------------------------- 0.0/331.5 kB ? eta -:--:--\n",
      "     ------------------------------------- 331.5/331.5 kB 20.1 MB/s eta 0:00:00\n",
      "  Downloading pgmpy-0.1.13-py3-none-any.whl (324 kB)\n",
      "     ---------------------------------------- 0.0/324.5 kB ? eta -:--:--\n",
      "     ---------------------------------------- 324.5/324.5 kB ? eta 0:00:00\n",
      "  Downloading pgmpy-0.1.12-py3-none-any.whl (322 kB)\n",
      "     ---------------------------------------- 0.0/323.0 kB ? eta -:--:--\n",
      "     ---------------------------------------- 323.0/323.0 kB ? eta 0:00:00\n",
      "INFO: This is taking longer than usual. You might need to provide the dependency resolver with stricter constraints to reduce runtime. See https://pip.pypa.io/warnings/backtracking for guidance. If you want to abort this run, press Ctrl + C.\n",
      "  Downloading pgmpy-0.1.11-py3-none-any.whl (314 kB)\n",
      "     ---------------------------------------- 0.0/314.7 kB ? eta -:--:--\n",
      "     ------------------------------------- 314.7/314.7 kB 19.0 MB/s eta 0:00:00\n",
      "  Downloading pgmpy-0.1.10-py3-none-any.whl (339 kB)\n",
      "     ---------------------------------------- 0.0/339.4 kB ? eta -:--:--\n",
      "     ------------------------------------- 339.4/339.4 kB 21.9 MB/s eta 0:00:00\n",
      "  Downloading pgmpy-0.1.9-py3-none-any.whl (331 kB)\n",
      "     ---------------------------------------- 0.0/331.7 kB ? eta -:--:--\n",
      "     ------------------------------------- 331.7/331.7 kB 20.1 MB/s eta 0:00:00\n",
      "Installing collected packages: pgmpy\n",
      "Successfully installed pgmpy-0.1.9\n"
     ]
    }
   ],
   "source": [
    "# Run this cell on Google Colab to install the pgmpy package\n",
    "!pip install pgmpy"
   ]
  },
  {
   "cell_type": "code",
   "execution_count": 2,
   "metadata": {
    "colab": {
     "base_uri": "https://localhost:8080/"
    },
    "id": "wdp3Kb8GLVHU",
    "outputId": "f10792e0-81ad-432e-fdf9-2b0495375d02"
   },
   "outputs": [
    {
     "ename": "ModuleNotFoundError",
     "evalue": "No module named 'torch'",
     "output_type": "error",
     "traceback": [
      "\u001b[1;31m---------------------------------------------------------------------------\u001b[0m",
      "\u001b[1;31mModuleNotFoundError\u001b[0m                       Traceback (most recent call last)",
      "\u001b[1;32mc:\\Users\\amand\\Downloads\\VE_pgmpy.ipynb Cell 3\u001b[0m line \u001b[0;36m3\n\u001b[0;32m      <a href='vscode-notebook-cell:/c%3A/Users/amand/Downloads/VE_pgmpy.ipynb#W2sZmlsZQ%3D%3D?line=0'>1</a>\u001b[0m \u001b[39mimport\u001b[39;00m \u001b[39mnumpy\u001b[39;00m \u001b[39mas\u001b[39;00m \u001b[39mnp\u001b[39;00m\n\u001b[0;32m      <a href='vscode-notebook-cell:/c%3A/Users/amand/Downloads/VE_pgmpy.ipynb#W2sZmlsZQ%3D%3D?line=1'>2</a>\u001b[0m \u001b[39mimport\u001b[39;00m \u001b[39mpandas\u001b[39;00m \u001b[39mas\u001b[39;00m \u001b[39mpd\u001b[39;00m\n\u001b[1;32m----> <a href='vscode-notebook-cell:/c%3A/Users/amand/Downloads/VE_pgmpy.ipynb#W2sZmlsZQ%3D%3D?line=2'>3</a>\u001b[0m \u001b[39mfrom\u001b[39;00m \u001b[39mpgmpy\u001b[39;00m\u001b[39m.\u001b[39;00m\u001b[39mmodels\u001b[39;00m \u001b[39mimport\u001b[39;00m BayesianNetwork\n\u001b[0;32m      <a href='vscode-notebook-cell:/c%3A/Users/amand/Downloads/VE_pgmpy.ipynb#W2sZmlsZQ%3D%3D?line=3'>4</a>\u001b[0m \u001b[39mfrom\u001b[39;00m \u001b[39mpgmpy\u001b[39;00m\u001b[39m.\u001b[39;00m\u001b[39mfactors\u001b[39;00m\u001b[39m.\u001b[39;00m\u001b[39mdiscrete\u001b[39;00m \u001b[39mimport\u001b[39;00m TabularCPD\n\u001b[0;32m      <a href='vscode-notebook-cell:/c%3A/Users/amand/Downloads/VE_pgmpy.ipynb#W2sZmlsZQ%3D%3D?line=4'>5</a>\u001b[0m \u001b[39mfrom\u001b[39;00m \u001b[39mpgmpy\u001b[39;00m\u001b[39m.\u001b[39;00m\u001b[39minference\u001b[39;00m \u001b[39mimport\u001b[39;00m VariableElimination\n",
      "File \u001b[1;32mc:\\Users\\amand\\anaconda3\\envs\\myenv\\Lib\\site-packages\\pgmpy\\__init__.py:1\u001b[0m\n\u001b[1;32m----> 1\u001b[0m \u001b[39mfrom\u001b[39;00m \u001b[39m.\u001b[39;00m\u001b[39mglobal_vars\u001b[39;00m \u001b[39mimport\u001b[39;00m HAS_PANDAS, device\n\u001b[0;32m      3\u001b[0m __all__ \u001b[39m=\u001b[39m [\u001b[39m\"\u001b[39m\u001b[39mHAS_PANDAS\u001b[39m\u001b[39m\"\u001b[39m, \u001b[39m\"\u001b[39m\u001b[39mdevice\u001b[39m\u001b[39m\"\u001b[39m]\n\u001b[0;32m      4\u001b[0m __version__ \u001b[39m=\u001b[39m \u001b[39m\"\u001b[39m\u001b[39mv0.1.9\u001b[39m\u001b[39m\"\u001b[39m\n",
      "File \u001b[1;32mc:\\Users\\amand\\anaconda3\\envs\\myenv\\Lib\\site-packages\\pgmpy\\global_vars.py:3\u001b[0m\n\u001b[0;32m      1\u001b[0m \u001b[39m# TODO: This variables being set in this file should move to setup.py\u001b[39;00m\n\u001b[1;32m----> 3\u001b[0m \u001b[39mimport\u001b[39;00m \u001b[39mtorch\u001b[39;00m\n\u001b[0;32m      6\u001b[0m \u001b[39m# This module initializes flags for optional dependencies\u001b[39;00m\n\u001b[0;32m      7\u001b[0m \u001b[39mtry\u001b[39;00m:\n",
      "\u001b[1;31mModuleNotFoundError\u001b[0m: No module named 'torch'"
     ]
    }
   ],
   "source": [
    "import numpy as np\n",
    "import pandas as pd\n",
    "from pgmpy.models import BayesianNetwork\n",
    "from pgmpy.factors.discrete import TabularCPD\n",
    "from pgmpy.inference import VariableElimination"
   ]
  },
  {
   "cell_type": "markdown",
   "metadata": {
    "id": "RCeozdcjija7"
   },
   "source": [
    "## Preliminaries"
   ]
  },
  {
   "cell_type": "markdown",
   "metadata": {
    "id": "ILsacOlFjAe7"
   },
   "source": [
    "The order in which the truth values are specified follows the order you would expect to see in a truth table:\n",
    "\n",
    "| Tampering |  f   |\n",
    "|-----------|------|\n",
    "| False     | 0.98 |\n",
    "| True      | 0.02 |\n",
    "\n",
    "---\n",
    "\n",
    "| Alarm | Tampering | Fire  |   f    |\n",
    "|-------|-----------|-------|--------|\n",
    "| False |   False   | False | 0.9999 |\n",
    "| False |   False   | True  | 0.0100 |\n",
    "| False |   True    | False | 0.1500 |\n",
    "| False |   True    | True  | 0.5000 |\n",
    "| True  |   False   | False | 0.0001 |\n",
    "| True  |   False   | True  | 0.9900 |\n",
    "| True  |   True    | False | 0.8500 |\n",
    "| True  |   True    | True  | 0.5000 |\n",
    "\n",
    "---\n",
    "\n",
    "| Leaving | Alarm |   f   |\n",
    "|---------|-------|-------|\n",
    "| False   | False | 0.999 |\n",
    "| False   | True  | 0.120 |\n",
    "| True    | False | 0.001 |\n",
    "| True    | True  | 0.880 |\n",
    "\n",
    "CPT's tend to be given with the \"True\" rows first (sometimes omitting the \"False\" rows altogether since these can be inferred), so pay attention to this 😁."
   ]
  },
  {
   "cell_type": "code",
   "execution_count": 3,
   "metadata": {
    "colab": {
     "base_uri": "https://localhost:8080/"
    },
    "id": "9s_sfa6BilRf",
    "outputId": "9e5041a4-4772-484d-ae61-e9cc6c1e9344"
   },
   "outputs": [
    {
     "name": "stdout",
     "output_type": "stream",
     "text": [
      "+--------------+------+\n",
      "| Tampering(0) | 0.98 |\n",
      "+--------------+------+\n",
      "| Tampering(1) | 0.02 |\n",
      "+--------------+------+\n",
      "+-----------+--------------+--------------+--------------+--------------+\n",
      "| Tampering | Tampering(0) | Tampering(0) | Tampering(1) | Tampering(1) |\n",
      "+-----------+--------------+--------------+--------------+--------------+\n",
      "| Fire      | Fire(0)      | Fire(1)      | Fire(0)      | Fire(1)      |\n",
      "+-----------+--------------+--------------+--------------+--------------+\n",
      "| Alarm(0)  | 0.9999       | 0.01         | 0.15         | 0.5          |\n",
      "+-----------+--------------+--------------+--------------+--------------+\n",
      "| Alarm(1)  | 0.0001       | 0.99         | 0.85         | 0.5          |\n",
      "+-----------+--------------+--------------+--------------+--------------+\n",
      "+------------+----------+----------+\n",
      "| Alarm      | Alarm(0) | Alarm(1) |\n",
      "+------------+----------+----------+\n",
      "| Leaving(0) | 0.999    | 0.12     |\n",
      "+------------+----------+----------+\n",
      "| Leaving(1) | 0.001    | 0.88     |\n",
      "+------------+----------+----------+\n"
     ]
    }
   ],
   "source": [
    "cpd_tampering = TabularCPD(\n",
    "                variable='Tampering', variable_card=2,\n",
    "                values=[[.98], [0.02]])\n",
    "print(cpd_tampering)\n",
    "\n",
    "cpd_alarm = TabularCPD(\n",
    "            variable='Alarm', variable_card=2,\n",
    "            values=[[0.9999, 0.0100, 0.1500, 0.5],\n",
    "                    [0.0001, 0.9900, 0.8500, 0.5]],\n",
    "            evidence=['Tampering', 'Fire'],\n",
    "            evidence_card=[2, 2])\n",
    "print(cpd_alarm)\n",
    "\n",
    "cpd_leaving = TabularCPD(\n",
    "              variable='Leaving', variable_card=2,\n",
    "              values=[[0.999, 0.12], [0.001, 0.88]],\n",
    "              evidence=['Alarm'], evidence_card=[2])\n",
    "print(cpd_leaving)"
   ]
  },
  {
   "cell_type": "markdown",
   "metadata": {
    "id": "Hd7KBHzZrrt4"
   },
   "source": [
    "In the `TabularCPD` constructor, the `evidence` parameter is a list containing the names of the direct parents.  \n",
    "The `variable_card` and `evidence_card` parameters denote the cardinality (= number of different values) of the node and its parents, respectively.\n",
    "In this notebook I only use binary variables, so the cardinality will always be 2."
   ]
  },
  {
   "cell_type": "code",
   "execution_count": 4,
   "metadata": {
    "colab": {
     "base_uri": "https://localhost:8080/"
    },
    "id": "xUUVdMYbsGaw",
    "outputId": "61a01ef0-58a3-4210-af07-5765a3fb5dca"
   },
   "outputs": [
    {
     "name": "stdout",
     "output_type": "stream",
     "text": [
      "['Burglary', 'Alarm', 'Earthquake']\n",
      "[('Burglary', 'Alarm'), ('Earthquake', 'Alarm')]\n",
      "['Burglary', 'Earthquake']\n"
     ]
    }
   ],
   "source": [
    "example_model = BayesianNetwork([\n",
    "                ('Burglary', 'Alarm'),\n",
    "                ('Earthquake', 'Alarm')])\n",
    "\n",
    "print(example_model.nodes)\n",
    "print(example_model.edges)\n",
    "print(example_model.get_parents('Alarm'))"
   ]
  },
  {
   "cell_type": "markdown",
   "metadata": {
    "id": "kgNOSV4DtL2O"
   },
   "source": [
    "As can be seen, the `BayesianNetwork` is constructed using a list of edges, where `(A, B)` denotes an edge $A \\to B$, making $A$ a parent of $B$."
   ]
  },
  {
   "cell_type": "markdown",
   "metadata": {
    "id": "1eUew-nDWwbv"
   },
   "source": [
    "## Example 1: Earthquake\n",
    "\n",
    "Here we have the bayesian network with the following edges:\n",
    "- $Burglary \\rightarrow Alarm$\n",
    "- $Earthquake \\rightarrow Alarm$\n",
    "- $Alarm \\rightarrow JohnCalls$\n",
    "- $Alarm \\rightarrow MaryCalls$\n",
    "\n",
    "This network can be found at https://www.bnlearn.com/bnrepository/discrete-small.html#earthquake and is also given as a .bif file for the assignment."
   ]
  },
  {
   "cell_type": "code",
   "execution_count": 5,
   "metadata": {
    "colab": {
     "base_uri": "https://localhost:8080/"
    },
    "id": "mG-aGkauNW9K",
    "outputId": "d6734b4d-b6ca-4417-9e65-7f7d326aa559"
   },
   "outputs": [
    {
     "name": "stdout",
     "output_type": "stream",
     "text": [
      "BayesianNetwork with 5 nodes and 4 edges\n"
     ]
    }
   ],
   "source": [
    "earthquake_model =  BayesianNetwork([\n",
    "                    ('Burglary', 'Alarm'),\n",
    "                    ('Earthquake', 'Alarm'),\n",
    "                    ('Alarm', 'JohnCalls'),\n",
    "                    ('Alarm', 'MaryCalls')])\n",
    "\n",
    "# Defining the parameters using CPT\n",
    "cpd_burglary =  TabularCPD(\n",
    "                variable='Burglary', variable_card=2,\n",
    "                values=[[.999], [0.001]])\n",
    "\n",
    "cpd_earthquake =  TabularCPD(\n",
    "                  variable='Earthquake', variable_card=2,\n",
    "                  values=[[0.98], [0.02]])\n",
    "\n",
    "cpd_alarm = TabularCPD(\n",
    "            variable='Alarm', variable_card=2,\n",
    "            values=[[0.999, 0.71, 0.06, 0.05],\n",
    "                    [0.001, 0.29, 0.94, 0.95]],\n",
    "            evidence=['Burglary', 'Earthquake'],\n",
    "            evidence_card=[2, 2])\n",
    "\n",
    "cpd_johncalls = TabularCPD(\n",
    "                variable='JohnCalls', variable_card=2,\n",
    "                values=[[0.95, 0.1], [0.05, 0.9]],\n",
    "                evidence=['Alarm'], evidence_card=[2])\n",
    "\n",
    "cpd_marycalls = TabularCPD(\n",
    "                variable='MaryCalls', variable_card=2,\n",
    "                values=[[0.99, 0.3], [0.01, 0.7]],\n",
    "                evidence=['Alarm'], evidence_card=[2])\n",
    "\n",
    "# Associating the parameters with the model structure\n",
    "earthquake_model.add_cpds(cpd_burglary, cpd_earthquake, cpd_alarm, cpd_johncalls, cpd_marycalls)\n",
    "\n",
    "print(earthquake_model)"
   ]
  },
  {
   "cell_type": "code",
   "execution_count": 6,
   "metadata": {
    "colab": {
     "base_uri": "https://localhost:8080/",
     "height": 168,
     "referenced_widgets": [
      "2cacf504448e4863a2168b886abe7429",
      "8ed04f4735f24a3b9e622cef98100daf",
      "fbcc8887a40d4b7b980029f611d00afb",
      "b26e75d7327d4784bdd61e85e2b10c86",
      "a515fc601f21431aa979097493813607",
      "beeceb8eb6fc4268a0f48b9560c647a4",
      "837cd485cd9049d9a7164d4100228788",
      "9724e64ceb2144dc8fe588d33bec2011",
      "761a4805deec4a128f022f41f781adb5",
      "a592db50d6224d88b5496d1f8d7ec419",
      "4426274f7902456a828195590ab8d1be"
     ]
    },
    "id": "p3w0b9TaNahV",
    "outputId": "0b2faec4-2108-46f8-cb89-119aa23bccaf"
   },
   "outputs": [
    {
     "data": {
      "application/vnd.jupyter.widget-view+json": {
       "model_id": "2cacf504448e4863a2168b886abe7429",
       "version_major": 2,
       "version_minor": 0
      },
      "text/plain": [
       "  0%|          | 0/1 [00:00<?, ?it/s]"
      ]
     },
     "metadata": {},
     "output_type": "display_data"
    },
    {
     "name": "stdout",
     "output_type": "stream",
     "text": [
      "+----------+--------------+\n",
      "| Alarm    |   phi(Alarm) |\n",
      "+==========+==============+\n",
      "| Alarm(0) |       0.0598 |\n",
      "+----------+--------------+\n",
      "| Alarm(1) |       0.9402 |\n",
      "+----------+--------------+\n"
     ]
    }
   ],
   "source": [
    "inference = VariableElimination(earthquake_model)\n",
    "\n",
    "# Calculate the CPT for Alarm, when observing Burglary to be true\n",
    "result =  inference.query(\n",
    "          variables=['Alarm'],\n",
    "          evidence={'Burglary': True},\n",
    "          elimination_order=['MaryCalls', 'JohnCalls', 'Earthquake'],\n",
    "          joint=False)\n",
    "\n",
    "for factor in result.values():\n",
    "    print(factor)"
   ]
  },
  {
   "cell_type": "markdown",
   "metadata": {
    "id": "7xmxnT2-YhI7"
   },
   "source": [
    "## Example 2: Alarm\n",
    "\n",
    "Here we have the bayesian network with the following edges:\n",
    "- $Tampering \\rightarrow Alarm$\n",
    "- $Fire \\rightarrow Alarm$\n",
    "- $Fire \\rightarrow Smoke$\n",
    "- $Alarm \\rightarrow Leaving$\n",
    "- $Leaving \\rightarrow Report$\n",
    "\n",
    "This network can be found as the first example on http://artint.info/2e/html/ArtInt2e.Ch8.S3.SS2.html#Ch8.Thmciexamplered15 and should be very familiar as it has been used in the slides as well."
   ]
  },
  {
   "cell_type": "code",
   "execution_count": 7,
   "metadata": {
    "colab": {
     "base_uri": "https://localhost:8080/"
    },
    "id": "LLaePx7FWcLP",
    "outputId": "efdb9aa7-5b9a-47d8-eaac-a87c084466f6"
   },
   "outputs": [
    {
     "name": "stdout",
     "output_type": "stream",
     "text": [
      "BayesianNetwork with 6 nodes and 5 edges\n"
     ]
    }
   ],
   "source": [
    "alarm_model = BayesianNetwork([\n",
    "              ('Tampering', 'Alarm'),\n",
    "              ('Fire', 'Alarm'),\n",
    "              ('Fire', 'Smoke'),\n",
    "              ('Alarm', 'Leaving'),\n",
    "              ('Leaving', 'Report')])\n",
    "\n",
    "# Defining the parameters using CPT\n",
    "cpd_tampering = TabularCPD(\n",
    "                variable='Tampering', variable_card=2,\n",
    "                values=[[.98], [0.02]])\n",
    "\n",
    "cpd_fire =  TabularCPD(\n",
    "            variable='Fire', variable_card=2,\n",
    "            values=[[0.99], [0.01]])\n",
    "\n",
    "cpd_alarm = TabularCPD(\n",
    "            variable='Alarm', variable_card=2,\n",
    "            values=[[0.9999, 0.0100, 0.1500, 0.5],\n",
    "                    [0.0001, 0.9900, 0.8500, 0.5]],\n",
    "            evidence=['Tampering', 'Fire'],\n",
    "            evidence_card=[2, 2])\n",
    "\n",
    "cpd_smoke = TabularCPD(\n",
    "            variable='Smoke', variable_card=2,\n",
    "            values=[[0.99, 0.1], [0.01, 0.9]],\n",
    "            evidence=['Fire'], evidence_card=[2])\n",
    "\n",
    "cpd_leaving = TabularCPD(\n",
    "              variable='Leaving', variable_card=2,\n",
    "              values=[[0.999, 0.12], [0.001, 0.88]],\n",
    "              evidence=['Alarm'], evidence_card=[2])\n",
    "\n",
    "cpd_report =  TabularCPD(\n",
    "              variable='Report', variable_card=2,\n",
    "              values=[[0.99, 0.25], [0.01, 0.75]],\n",
    "              evidence=['Leaving'], evidence_card=[2])\n",
    "\n",
    "# Associating the parameters with the model structure\n",
    "alarm_model.add_cpds(cpd_tampering, cpd_fire, cpd_alarm, cpd_smoke, cpd_leaving, cpd_report)\n",
    "\n",
    "print(alarm_model)"
   ]
  },
  {
   "cell_type": "code",
   "execution_count": 8,
   "metadata": {
    "colab": {
     "base_uri": "https://localhost:8080/",
     "height": 168,
     "referenced_widgets": [
      "170d302ddc0c46ef8e7f223192ed4c0d",
      "9ce25a007c864e858c1935e6526e55ff",
      "b200da10b1a747439abed6cafa69d7d1",
      "e5b62d4bf67842639ec249b76740a42f",
      "b4997ffe4dfa4befb6d93f4e7a287b0a",
      "0cd3608cb85b4a6aae62531ace0a3fca",
      "8718b346b09949c48950ffc54c042702",
      "f373c4b0a12f45888d44b9d182b38ee6",
      "cbe1a31d588748c7ae56f60b5b5a336e",
      "95ca492539454d01a9554f00679b7b59",
      "317b2cf7d5c941a190a2c9e73da5141f"
     ]
    },
    "id": "kaYRku_ib0r1",
    "outputId": "46303810-e443-4e37-f1d4-1de3305d1328"
   },
   "outputs": [
    {
     "data": {
      "application/vnd.jupyter.widget-view+json": {
       "model_id": "170d302ddc0c46ef8e7f223192ed4c0d",
       "version_major": 2,
       "version_minor": 0
      },
      "text/plain": [
       "  0%|          | 0/3 [00:00<?, ?it/s]"
      ]
     },
     "metadata": {},
     "output_type": "display_data"
    },
    {
     "name": "stdout",
     "output_type": "stream",
     "text": [
      "+--------------+------------------+\n",
      "| Tampering    |   phi(Tampering) |\n",
      "+==============+==================+\n",
      "| Tampering(0) |           0.9716 |\n",
      "+--------------+------------------+\n",
      "| Tampering(1) |           0.0284 |\n",
      "+--------------+------------------+\n"
     ]
    }
   ],
   "source": [
    "inference = VariableElimination(alarm_model)\n",
    "\n",
    "# Calculate the CPT for Tampering, when observing Smoke to be true and Report to be true\n",
    "result =  inference.query(\n",
    "          variables=['Tampering'],\n",
    "          evidence={'Smoke': True, 'Report':True},\n",
    "          elimination_order=['Leaving', 'Fire', 'Alarm'],\n",
    "          joint=False)\n",
    "\n",
    "for factor in result.values():\n",
    "    print(factor)"
   ]
  },
  {
   "cell_type": "markdown",
   "metadata": {
    "id": "Wvc-1z6GdAZw"
   },
   "source": [
    "## Example 3: Alarm\n",
    "\n",
    "Here we have the bayesian network with the following edges:\n",
    "- $A \\rightarrow C$\n",
    "- $B \\rightarrow C$\n",
    "- $B \\rightarrow D$\n",
    "- $C \\rightarrow E$\n",
    "- $C \\rightarrow F$\n",
    "\n",
    "This is the network from the knowledge clip on Brightspace."
   ]
  },
  {
   "cell_type": "code",
   "execution_count": 9,
   "metadata": {
    "colab": {
     "base_uri": "https://localhost:8080/"
    },
    "id": "_6eDyG3Ic_ND",
    "outputId": "5e1eb748-0dcf-4e4d-a1a5-981f290cc171"
   },
   "outputs": [
    {
     "name": "stdout",
     "output_type": "stream",
     "text": [
      "BayesianNetwork with 6 nodes and 5 edges\n"
     ]
    }
   ],
   "source": [
    "clip_model =  BayesianNetwork([\n",
    "              ('A', 'C'),\n",
    "              ('B', 'C'),\n",
    "              ('B', 'D'),\n",
    "              ('C', 'E'),\n",
    "              ('C', 'F')])\n",
    "\n",
    "# Defining the parameters using CPT\n",
    "cpd_a = TabularCPD(\n",
    "        variable='A', variable_card=2,\n",
    "        values=[[0.1], [0.9]])\n",
    "\n",
    "cpd_b = TabularCPD(\n",
    "        variable='B', variable_card=2,\n",
    "        values=[[0.8], [0.2]])\n",
    "\n",
    "cpd_c = TabularCPD(\n",
    "        variable='C', variable_card=2,\n",
    "        values=[[0.6, 0.3, 0.2, 0.9],\n",
    "                [0.4, 0.7, 0.8, 0.1]],\n",
    "        evidence=['A', 'B'],\n",
    "        evidence_card=[2, 2])\n",
    "\n",
    "cpd_d = TabularCPD(\n",
    "        variable='D', variable_card=2,\n",
    "        values=[[0.2, 0.9], [0.8, 0.1]],\n",
    "        evidence=['B'], evidence_card=[2])\n",
    "\n",
    "cpd_e = TabularCPD(\n",
    "        variable='E', variable_card=2,\n",
    "        values=[[0.8, 0.3], [0.2, 0.7]],\n",
    "        evidence=['C'], evidence_card=[2])\n",
    "\n",
    "cpd_f = TabularCPD(\n",
    "        variable='F', variable_card=2,\n",
    "        values=[[0.1, 0.8], [0.9, 0.2]],\n",
    "        evidence=['C'], evidence_card=[2])\n",
    "\n",
    "# Associating the parameters with the model structure\n",
    "clip_model.add_cpds(cpd_a, cpd_b, cpd_c, cpd_d, cpd_e, cpd_f)\n",
    "\n",
    "print(clip_model)"
   ]
  },
  {
   "cell_type": "code",
   "execution_count": 10,
   "metadata": {
    "colab": {
     "base_uri": "https://localhost:8080/",
     "height": 168,
     "referenced_widgets": [
      "8f9f17d1121149a5836f9febea177681",
      "9f4d1308863e431a86d72c1a35facbbc",
      "b5b3beb9a15847d28c1e00028c0d2df3",
      "d734176038a34ef4893cf7a19786dcb3",
      "8f8727a6609d45d994a8f32717f1043f",
      "feaea4ecc5c6439ab9483bd1d6eebab0",
      "139a59e25e0249ea8dbd8f660f8f9ba5",
      "2621b561a6da433cb824eefcfb3da3b6",
      "611dfca4cbb84ade9e0f7aada8242a3e",
      "c725e2de5d1947c5bf3df4fa604e9a14",
      "e95a3213e061490f8ab810a9c39efb33"
     ]
    },
    "id": "Uwj2exLZeNKS",
    "outputId": "195f1e49-5470-4eb4-d330-81539cf21c1a"
   },
   "outputs": [
    {
     "data": {
      "application/vnd.jupyter.widget-view+json": {
       "model_id": "8f9f17d1121149a5836f9febea177681",
       "version_major": 2,
       "version_minor": 0
      },
      "text/plain": [
       "  0%|          | 0/3 [00:00<?, ?it/s]"
      ]
     },
     "metadata": {},
     "output_type": "display_data"
    },
    {
     "name": "stdout",
     "output_type": "stream",
     "text": [
      "+------+----------+\n",
      "| E    |   phi(E) |\n",
      "+======+==========+\n",
      "| E(0) |   0.4800 |\n",
      "+------+----------+\n",
      "| E(1) |   0.5200 |\n",
      "+------+----------+\n"
     ]
    }
   ],
   "source": [
    "inference = VariableElimination(clip_model)\n",
    "\n",
    "# Calculate the CPT for E, when not observing anything\n",
    "result =  inference.query(\n",
    "          variables=['E'],\n",
    "          evidence=None,\n",
    "          elimination_order=['D', 'F', 'A', 'B', 'C'],\n",
    "          joint=False)\n",
    "\n",
    "for factor in result.values():\n",
    "    print(factor)"
   ]
  }
 ],
 "metadata": {
  "colab": {
   "collapsed_sections": [],
   "name": "VE_pgmpy.ipynb",
   "provenance": []
  },
  "kernelspec": {
   "display_name": "Python 3",
   "name": "python3"
  },
  "language_info": {
   "codemirror_mode": {
    "name": "ipython",
    "version": 3
   },
   "file_extension": ".py",
   "mimetype": "text/x-python",
   "name": "python",
   "nbconvert_exporter": "python",
   "pygments_lexer": "ipython3",
   "version": "3.12.0"
  },
  "widgets": {
   "application/vnd.jupyter.widget-state+json": {
    "0cd3608cb85b4a6aae62531ace0a3fca": {
     "model_module": "@jupyter-widgets/controls",
     "model_module_version": "1.5.0",
     "model_name": "DescriptionStyleModel",
     "state": {
      "_model_module": "@jupyter-widgets/controls",
      "_model_module_version": "1.5.0",
      "_model_name": "DescriptionStyleModel",
      "_view_count": null,
      "_view_module": "@jupyter-widgets/base",
      "_view_module_version": "1.2.0",
      "_view_name": "StyleView",
      "description_width": ""
     }
    },
    "139a59e25e0249ea8dbd8f660f8f9ba5": {
     "model_module": "@jupyter-widgets/base",
     "model_module_version": "1.2.0",
     "model_name": "LayoutModel",
     "state": {
      "_model_module": "@jupyter-widgets/base",
      "_model_module_version": "1.2.0",
      "_model_name": "LayoutModel",
      "_view_count": null,
      "_view_module": "@jupyter-widgets/base",
      "_view_module_version": "1.2.0",
      "_view_name": "LayoutView",
      "align_content": null,
      "align_items": null,
      "align_self": null,
      "border": null,
      "bottom": null,
      "display": null,
      "flex": null,
      "flex_flow": null,
      "grid_area": null,
      "grid_auto_columns": null,
      "grid_auto_flow": null,
      "grid_auto_rows": null,
      "grid_column": null,
      "grid_gap": null,
      "grid_row": null,
      "grid_template_areas": null,
      "grid_template_columns": null,
      "grid_template_rows": null,
      "height": null,
      "justify_content": null,
      "justify_items": null,
      "left": null,
      "margin": null,
      "max_height": null,
      "max_width": null,
      "min_height": null,
      "min_width": null,
      "object_fit": null,
      "object_position": null,
      "order": null,
      "overflow": null,
      "overflow_x": null,
      "overflow_y": null,
      "padding": null,
      "right": null,
      "top": null,
      "visibility": null,
      "width": null
     }
    },
    "170d302ddc0c46ef8e7f223192ed4c0d": {
     "model_module": "@jupyter-widgets/controls",
     "model_module_version": "1.5.0",
     "model_name": "HBoxModel",
     "state": {
      "_dom_classes": [],
      "_model_module": "@jupyter-widgets/controls",
      "_model_module_version": "1.5.0",
      "_model_name": "HBoxModel",
      "_view_count": null,
      "_view_module": "@jupyter-widgets/controls",
      "_view_module_version": "1.5.0",
      "_view_name": "HBoxView",
      "box_style": "",
      "children": [
       "IPY_MODEL_b200da10b1a747439abed6cafa69d7d1",
       "IPY_MODEL_e5b62d4bf67842639ec249b76740a42f",
       "IPY_MODEL_b4997ffe4dfa4befb6d93f4e7a287b0a"
      ],
      "layout": "IPY_MODEL_9ce25a007c864e858c1935e6526e55ff"
     }
    },
    "2621b561a6da433cb824eefcfb3da3b6": {
     "model_module": "@jupyter-widgets/controls",
     "model_module_version": "1.5.0",
     "model_name": "ProgressStyleModel",
     "state": {
      "_model_module": "@jupyter-widgets/controls",
      "_model_module_version": "1.5.0",
      "_model_name": "ProgressStyleModel",
      "_view_count": null,
      "_view_module": "@jupyter-widgets/base",
      "_view_module_version": "1.2.0",
      "_view_name": "StyleView",
      "bar_color": null,
      "description_width": ""
     }
    },
    "2cacf504448e4863a2168b886abe7429": {
     "model_module": "@jupyter-widgets/controls",
     "model_module_version": "1.5.0",
     "model_name": "HBoxModel",
     "state": {
      "_dom_classes": [],
      "_model_module": "@jupyter-widgets/controls",
      "_model_module_version": "1.5.0",
      "_model_name": "HBoxModel",
      "_view_count": null,
      "_view_module": "@jupyter-widgets/controls",
      "_view_module_version": "1.5.0",
      "_view_name": "HBoxView",
      "box_style": "",
      "children": [
       "IPY_MODEL_fbcc8887a40d4b7b980029f611d00afb",
       "IPY_MODEL_b26e75d7327d4784bdd61e85e2b10c86",
       "IPY_MODEL_a515fc601f21431aa979097493813607"
      ],
      "layout": "IPY_MODEL_8ed04f4735f24a3b9e622cef98100daf"
     }
    },
    "317b2cf7d5c941a190a2c9e73da5141f": {
     "model_module": "@jupyter-widgets/base",
     "model_module_version": "1.2.0",
     "model_name": "LayoutModel",
     "state": {
      "_model_module": "@jupyter-widgets/base",
      "_model_module_version": "1.2.0",
      "_model_name": "LayoutModel",
      "_view_count": null,
      "_view_module": "@jupyter-widgets/base",
      "_view_module_version": "1.2.0",
      "_view_name": "LayoutView",
      "align_content": null,
      "align_items": null,
      "align_self": null,
      "border": null,
      "bottom": null,
      "display": null,
      "flex": null,
      "flex_flow": null,
      "grid_area": null,
      "grid_auto_columns": null,
      "grid_auto_flow": null,
      "grid_auto_rows": null,
      "grid_column": null,
      "grid_gap": null,
      "grid_row": null,
      "grid_template_areas": null,
      "grid_template_columns": null,
      "grid_template_rows": null,
      "height": null,
      "justify_content": null,
      "justify_items": null,
      "left": null,
      "margin": null,
      "max_height": null,
      "max_width": null,
      "min_height": null,
      "min_width": null,
      "object_fit": null,
      "object_position": null,
      "order": null,
      "overflow": null,
      "overflow_x": null,
      "overflow_y": null,
      "padding": null,
      "right": null,
      "top": null,
      "visibility": null,
      "width": null
     }
    },
    "4426274f7902456a828195590ab8d1be": {
     "model_module": "@jupyter-widgets/base",
     "model_module_version": "1.2.0",
     "model_name": "LayoutModel",
     "state": {
      "_model_module": "@jupyter-widgets/base",
      "_model_module_version": "1.2.0",
      "_model_name": "LayoutModel",
      "_view_count": null,
      "_view_module": "@jupyter-widgets/base",
      "_view_module_version": "1.2.0",
      "_view_name": "LayoutView",
      "align_content": null,
      "align_items": null,
      "align_self": null,
      "border": null,
      "bottom": null,
      "display": null,
      "flex": null,
      "flex_flow": null,
      "grid_area": null,
      "grid_auto_columns": null,
      "grid_auto_flow": null,
      "grid_auto_rows": null,
      "grid_column": null,
      "grid_gap": null,
      "grid_row": null,
      "grid_template_areas": null,
      "grid_template_columns": null,
      "grid_template_rows": null,
      "height": null,
      "justify_content": null,
      "justify_items": null,
      "left": null,
      "margin": null,
      "max_height": null,
      "max_width": null,
      "min_height": null,
      "min_width": null,
      "object_fit": null,
      "object_position": null,
      "order": null,
      "overflow": null,
      "overflow_x": null,
      "overflow_y": null,
      "padding": null,
      "right": null,
      "top": null,
      "visibility": null,
      "width": null
     }
    },
    "611dfca4cbb84ade9e0f7aada8242a3e": {
     "model_module": "@jupyter-widgets/base",
     "model_module_version": "1.2.0",
     "model_name": "LayoutModel",
     "state": {
      "_model_module": "@jupyter-widgets/base",
      "_model_module_version": "1.2.0",
      "_model_name": "LayoutModel",
      "_view_count": null,
      "_view_module": "@jupyter-widgets/base",
      "_view_module_version": "1.2.0",
      "_view_name": "LayoutView",
      "align_content": null,
      "align_items": null,
      "align_self": null,
      "border": null,
      "bottom": null,
      "display": null,
      "flex": null,
      "flex_flow": null,
      "grid_area": null,
      "grid_auto_columns": null,
      "grid_auto_flow": null,
      "grid_auto_rows": null,
      "grid_column": null,
      "grid_gap": null,
      "grid_row": null,
      "grid_template_areas": null,
      "grid_template_columns": null,
      "grid_template_rows": null,
      "height": null,
      "justify_content": null,
      "justify_items": null,
      "left": null,
      "margin": null,
      "max_height": null,
      "max_width": null,
      "min_height": null,
      "min_width": null,
      "object_fit": null,
      "object_position": null,
      "order": null,
      "overflow": null,
      "overflow_x": null,
      "overflow_y": null,
      "padding": null,
      "right": null,
      "top": null,
      "visibility": null,
      "width": null
     }
    },
    "761a4805deec4a128f022f41f781adb5": {
     "model_module": "@jupyter-widgets/base",
     "model_module_version": "1.2.0",
     "model_name": "LayoutModel",
     "state": {
      "_model_module": "@jupyter-widgets/base",
      "_model_module_version": "1.2.0",
      "_model_name": "LayoutModel",
      "_view_count": null,
      "_view_module": "@jupyter-widgets/base",
      "_view_module_version": "1.2.0",
      "_view_name": "LayoutView",
      "align_content": null,
      "align_items": null,
      "align_self": null,
      "border": null,
      "bottom": null,
      "display": null,
      "flex": null,
      "flex_flow": null,
      "grid_area": null,
      "grid_auto_columns": null,
      "grid_auto_flow": null,
      "grid_auto_rows": null,
      "grid_column": null,
      "grid_gap": null,
      "grid_row": null,
      "grid_template_areas": null,
      "grid_template_columns": null,
      "grid_template_rows": null,
      "height": null,
      "justify_content": null,
      "justify_items": null,
      "left": null,
      "margin": null,
      "max_height": null,
      "max_width": null,
      "min_height": null,
      "min_width": null,
      "object_fit": null,
      "object_position": null,
      "order": null,
      "overflow": null,
      "overflow_x": null,
      "overflow_y": null,
      "padding": null,
      "right": null,
      "top": null,
      "visibility": null,
      "width": null
     }
    },
    "837cd485cd9049d9a7164d4100228788": {
     "model_module": "@jupyter-widgets/base",
     "model_module_version": "1.2.0",
     "model_name": "LayoutModel",
     "state": {
      "_model_module": "@jupyter-widgets/base",
      "_model_module_version": "1.2.0",
      "_model_name": "LayoutModel",
      "_view_count": null,
      "_view_module": "@jupyter-widgets/base",
      "_view_module_version": "1.2.0",
      "_view_name": "LayoutView",
      "align_content": null,
      "align_items": null,
      "align_self": null,
      "border": null,
      "bottom": null,
      "display": null,
      "flex": null,
      "flex_flow": null,
      "grid_area": null,
      "grid_auto_columns": null,
      "grid_auto_flow": null,
      "grid_auto_rows": null,
      "grid_column": null,
      "grid_gap": null,
      "grid_row": null,
      "grid_template_areas": null,
      "grid_template_columns": null,
      "grid_template_rows": null,
      "height": null,
      "justify_content": null,
      "justify_items": null,
      "left": null,
      "margin": null,
      "max_height": null,
      "max_width": null,
      "min_height": null,
      "min_width": null,
      "object_fit": null,
      "object_position": null,
      "order": null,
      "overflow": null,
      "overflow_x": null,
      "overflow_y": null,
      "padding": null,
      "right": null,
      "top": null,
      "visibility": null,
      "width": null
     }
    },
    "8718b346b09949c48950ffc54c042702": {
     "model_module": "@jupyter-widgets/base",
     "model_module_version": "1.2.0",
     "model_name": "LayoutModel",
     "state": {
      "_model_module": "@jupyter-widgets/base",
      "_model_module_version": "1.2.0",
      "_model_name": "LayoutModel",
      "_view_count": null,
      "_view_module": "@jupyter-widgets/base",
      "_view_module_version": "1.2.0",
      "_view_name": "LayoutView",
      "align_content": null,
      "align_items": null,
      "align_self": null,
      "border": null,
      "bottom": null,
      "display": null,
      "flex": null,
      "flex_flow": null,
      "grid_area": null,
      "grid_auto_columns": null,
      "grid_auto_flow": null,
      "grid_auto_rows": null,
      "grid_column": null,
      "grid_gap": null,
      "grid_row": null,
      "grid_template_areas": null,
      "grid_template_columns": null,
      "grid_template_rows": null,
      "height": null,
      "justify_content": null,
      "justify_items": null,
      "left": null,
      "margin": null,
      "max_height": null,
      "max_width": null,
      "min_height": null,
      "min_width": null,
      "object_fit": null,
      "object_position": null,
      "order": null,
      "overflow": null,
      "overflow_x": null,
      "overflow_y": null,
      "padding": null,
      "right": null,
      "top": null,
      "visibility": null,
      "width": null
     }
    },
    "8ed04f4735f24a3b9e622cef98100daf": {
     "model_module": "@jupyter-widgets/base",
     "model_module_version": "1.2.0",
     "model_name": "LayoutModel",
     "state": {
      "_model_module": "@jupyter-widgets/base",
      "_model_module_version": "1.2.0",
      "_model_name": "LayoutModel",
      "_view_count": null,
      "_view_module": "@jupyter-widgets/base",
      "_view_module_version": "1.2.0",
      "_view_name": "LayoutView",
      "align_content": null,
      "align_items": null,
      "align_self": null,
      "border": null,
      "bottom": null,
      "display": null,
      "flex": null,
      "flex_flow": null,
      "grid_area": null,
      "grid_auto_columns": null,
      "grid_auto_flow": null,
      "grid_auto_rows": null,
      "grid_column": null,
      "grid_gap": null,
      "grid_row": null,
      "grid_template_areas": null,
      "grid_template_columns": null,
      "grid_template_rows": null,
      "height": null,
      "justify_content": null,
      "justify_items": null,
      "left": null,
      "margin": null,
      "max_height": null,
      "max_width": null,
      "min_height": null,
      "min_width": null,
      "object_fit": null,
      "object_position": null,
      "order": null,
      "overflow": null,
      "overflow_x": null,
      "overflow_y": null,
      "padding": null,
      "right": null,
      "top": null,
      "visibility": null,
      "width": null
     }
    },
    "8f8727a6609d45d994a8f32717f1043f": {
     "model_module": "@jupyter-widgets/controls",
     "model_module_version": "1.5.0",
     "model_name": "HTMLModel",
     "state": {
      "_dom_classes": [],
      "_model_module": "@jupyter-widgets/controls",
      "_model_module_version": "1.5.0",
      "_model_name": "HTMLModel",
      "_view_count": null,
      "_view_module": "@jupyter-widgets/controls",
      "_view_module_version": "1.5.0",
      "_view_name": "HTMLView",
      "description": "",
      "description_tooltip": null,
      "layout": "IPY_MODEL_e95a3213e061490f8ab810a9c39efb33",
      "placeholder": "​",
      "style": "IPY_MODEL_c725e2de5d1947c5bf3df4fa604e9a14",
      "value": " 3/3 [00:00&lt;00:00, 48.64it/s]"
     }
    },
    "8f9f17d1121149a5836f9febea177681": {
     "model_module": "@jupyter-widgets/controls",
     "model_module_version": "1.5.0",
     "model_name": "HBoxModel",
     "state": {
      "_dom_classes": [],
      "_model_module": "@jupyter-widgets/controls",
      "_model_module_version": "1.5.0",
      "_model_name": "HBoxModel",
      "_view_count": null,
      "_view_module": "@jupyter-widgets/controls",
      "_view_module_version": "1.5.0",
      "_view_name": "HBoxView",
      "box_style": "",
      "children": [
       "IPY_MODEL_b5b3beb9a15847d28c1e00028c0d2df3",
       "IPY_MODEL_d734176038a34ef4893cf7a19786dcb3",
       "IPY_MODEL_8f8727a6609d45d994a8f32717f1043f"
      ],
      "layout": "IPY_MODEL_9f4d1308863e431a86d72c1a35facbbc"
     }
    },
    "95ca492539454d01a9554f00679b7b59": {
     "model_module": "@jupyter-widgets/controls",
     "model_module_version": "1.5.0",
     "model_name": "DescriptionStyleModel",
     "state": {
      "_model_module": "@jupyter-widgets/controls",
      "_model_module_version": "1.5.0",
      "_model_name": "DescriptionStyleModel",
      "_view_count": null,
      "_view_module": "@jupyter-widgets/base",
      "_view_module_version": "1.2.0",
      "_view_name": "StyleView",
      "description_width": ""
     }
    },
    "9724e64ceb2144dc8fe588d33bec2011": {
     "model_module": "@jupyter-widgets/controls",
     "model_module_version": "1.5.0",
     "model_name": "ProgressStyleModel",
     "state": {
      "_model_module": "@jupyter-widgets/controls",
      "_model_module_version": "1.5.0",
      "_model_name": "ProgressStyleModel",
      "_view_count": null,
      "_view_module": "@jupyter-widgets/base",
      "_view_module_version": "1.2.0",
      "_view_name": "StyleView",
      "bar_color": null,
      "description_width": ""
     }
    },
    "9ce25a007c864e858c1935e6526e55ff": {
     "model_module": "@jupyter-widgets/base",
     "model_module_version": "1.2.0",
     "model_name": "LayoutModel",
     "state": {
      "_model_module": "@jupyter-widgets/base",
      "_model_module_version": "1.2.0",
      "_model_name": "LayoutModel",
      "_view_count": null,
      "_view_module": "@jupyter-widgets/base",
      "_view_module_version": "1.2.0",
      "_view_name": "LayoutView",
      "align_content": null,
      "align_items": null,
      "align_self": null,
      "border": null,
      "bottom": null,
      "display": null,
      "flex": null,
      "flex_flow": null,
      "grid_area": null,
      "grid_auto_columns": null,
      "grid_auto_flow": null,
      "grid_auto_rows": null,
      "grid_column": null,
      "grid_gap": null,
      "grid_row": null,
      "grid_template_areas": null,
      "grid_template_columns": null,
      "grid_template_rows": null,
      "height": null,
      "justify_content": null,
      "justify_items": null,
      "left": null,
      "margin": null,
      "max_height": null,
      "max_width": null,
      "min_height": null,
      "min_width": null,
      "object_fit": null,
      "object_position": null,
      "order": null,
      "overflow": null,
      "overflow_x": null,
      "overflow_y": null,
      "padding": null,
      "right": null,
      "top": null,
      "visibility": null,
      "width": null
     }
    },
    "9f4d1308863e431a86d72c1a35facbbc": {
     "model_module": "@jupyter-widgets/base",
     "model_module_version": "1.2.0",
     "model_name": "LayoutModel",
     "state": {
      "_model_module": "@jupyter-widgets/base",
      "_model_module_version": "1.2.0",
      "_model_name": "LayoutModel",
      "_view_count": null,
      "_view_module": "@jupyter-widgets/base",
      "_view_module_version": "1.2.0",
      "_view_name": "LayoutView",
      "align_content": null,
      "align_items": null,
      "align_self": null,
      "border": null,
      "bottom": null,
      "display": null,
      "flex": null,
      "flex_flow": null,
      "grid_area": null,
      "grid_auto_columns": null,
      "grid_auto_flow": null,
      "grid_auto_rows": null,
      "grid_column": null,
      "grid_gap": null,
      "grid_row": null,
      "grid_template_areas": null,
      "grid_template_columns": null,
      "grid_template_rows": null,
      "height": null,
      "justify_content": null,
      "justify_items": null,
      "left": null,
      "margin": null,
      "max_height": null,
      "max_width": null,
      "min_height": null,
      "min_width": null,
      "object_fit": null,
      "object_position": null,
      "order": null,
      "overflow": null,
      "overflow_x": null,
      "overflow_y": null,
      "padding": null,
      "right": null,
      "top": null,
      "visibility": null,
      "width": null
     }
    },
    "a515fc601f21431aa979097493813607": {
     "model_module": "@jupyter-widgets/controls",
     "model_module_version": "1.5.0",
     "model_name": "HTMLModel",
     "state": {
      "_dom_classes": [],
      "_model_module": "@jupyter-widgets/controls",
      "_model_module_version": "1.5.0",
      "_model_name": "HTMLModel",
      "_view_count": null,
      "_view_module": "@jupyter-widgets/controls",
      "_view_module_version": "1.5.0",
      "_view_name": "HTMLView",
      "description": "",
      "description_tooltip": null,
      "layout": "IPY_MODEL_4426274f7902456a828195590ab8d1be",
      "placeholder": "​",
      "style": "IPY_MODEL_a592db50d6224d88b5496d1f8d7ec419",
      "value": " 1/1 [00:00&lt;00:00, 23.85it/s]"
     }
    },
    "a592db50d6224d88b5496d1f8d7ec419": {
     "model_module": "@jupyter-widgets/controls",
     "model_module_version": "1.5.0",
     "model_name": "DescriptionStyleModel",
     "state": {
      "_model_module": "@jupyter-widgets/controls",
      "_model_module_version": "1.5.0",
      "_model_name": "DescriptionStyleModel",
      "_view_count": null,
      "_view_module": "@jupyter-widgets/base",
      "_view_module_version": "1.2.0",
      "_view_name": "StyleView",
      "description_width": ""
     }
    },
    "b200da10b1a747439abed6cafa69d7d1": {
     "model_module": "@jupyter-widgets/controls",
     "model_module_version": "1.5.0",
     "model_name": "HTMLModel",
     "state": {
      "_dom_classes": [],
      "_model_module": "@jupyter-widgets/controls",
      "_model_module_version": "1.5.0",
      "_model_name": "HTMLModel",
      "_view_count": null,
      "_view_module": "@jupyter-widgets/controls",
      "_view_module_version": "1.5.0",
      "_view_name": "HTMLView",
      "description": "",
      "description_tooltip": null,
      "layout": "IPY_MODEL_8718b346b09949c48950ffc54c042702",
      "placeholder": "​",
      "style": "IPY_MODEL_0cd3608cb85b4a6aae62531ace0a3fca",
      "value": "Eliminating: Alarm: 100%"
     }
    },
    "b26e75d7327d4784bdd61e85e2b10c86": {
     "model_module": "@jupyter-widgets/controls",
     "model_module_version": "1.5.0",
     "model_name": "FloatProgressModel",
     "state": {
      "_dom_classes": [],
      "_model_module": "@jupyter-widgets/controls",
      "_model_module_version": "1.5.0",
      "_model_name": "FloatProgressModel",
      "_view_count": null,
      "_view_module": "@jupyter-widgets/controls",
      "_view_module_version": "1.5.0",
      "_view_name": "ProgressView",
      "bar_style": "success",
      "description": "",
      "description_tooltip": null,
      "layout": "IPY_MODEL_761a4805deec4a128f022f41f781adb5",
      "max": 1,
      "min": 0,
      "orientation": "horizontal",
      "style": "IPY_MODEL_9724e64ceb2144dc8fe588d33bec2011",
      "value": 1
     }
    },
    "b4997ffe4dfa4befb6d93f4e7a287b0a": {
     "model_module": "@jupyter-widgets/controls",
     "model_module_version": "1.5.0",
     "model_name": "HTMLModel",
     "state": {
      "_dom_classes": [],
      "_model_module": "@jupyter-widgets/controls",
      "_model_module_version": "1.5.0",
      "_model_name": "HTMLModel",
      "_view_count": null,
      "_view_module": "@jupyter-widgets/controls",
      "_view_module_version": "1.5.0",
      "_view_name": "HTMLView",
      "description": "",
      "description_tooltip": null,
      "layout": "IPY_MODEL_317b2cf7d5c941a190a2c9e73da5141f",
      "placeholder": "​",
      "style": "IPY_MODEL_95ca492539454d01a9554f00679b7b59",
      "value": " 3/3 [00:00&lt;00:00, 45.51it/s]"
     }
    },
    "b5b3beb9a15847d28c1e00028c0d2df3": {
     "model_module": "@jupyter-widgets/controls",
     "model_module_version": "1.5.0",
     "model_name": "HTMLModel",
     "state": {
      "_dom_classes": [],
      "_model_module": "@jupyter-widgets/controls",
      "_model_module_version": "1.5.0",
      "_model_name": "HTMLModel",
      "_view_count": null,
      "_view_module": "@jupyter-widgets/controls",
      "_view_module_version": "1.5.0",
      "_view_name": "HTMLView",
      "description": "",
      "description_tooltip": null,
      "layout": "IPY_MODEL_139a59e25e0249ea8dbd8f660f8f9ba5",
      "placeholder": "​",
      "style": "IPY_MODEL_feaea4ecc5c6439ab9483bd1d6eebab0",
      "value": "Eliminating: C: 100%"
     }
    },
    "beeceb8eb6fc4268a0f48b9560c647a4": {
     "model_module": "@jupyter-widgets/controls",
     "model_module_version": "1.5.0",
     "model_name": "DescriptionStyleModel",
     "state": {
      "_model_module": "@jupyter-widgets/controls",
      "_model_module_version": "1.5.0",
      "_model_name": "DescriptionStyleModel",
      "_view_count": null,
      "_view_module": "@jupyter-widgets/base",
      "_view_module_version": "1.2.0",
      "_view_name": "StyleView",
      "description_width": ""
     }
    },
    "c725e2de5d1947c5bf3df4fa604e9a14": {
     "model_module": "@jupyter-widgets/controls",
     "model_module_version": "1.5.0",
     "model_name": "DescriptionStyleModel",
     "state": {
      "_model_module": "@jupyter-widgets/controls",
      "_model_module_version": "1.5.0",
      "_model_name": "DescriptionStyleModel",
      "_view_count": null,
      "_view_module": "@jupyter-widgets/base",
      "_view_module_version": "1.2.0",
      "_view_name": "StyleView",
      "description_width": ""
     }
    },
    "cbe1a31d588748c7ae56f60b5b5a336e": {
     "model_module": "@jupyter-widgets/base",
     "model_module_version": "1.2.0",
     "model_name": "LayoutModel",
     "state": {
      "_model_module": "@jupyter-widgets/base",
      "_model_module_version": "1.2.0",
      "_model_name": "LayoutModel",
      "_view_count": null,
      "_view_module": "@jupyter-widgets/base",
      "_view_module_version": "1.2.0",
      "_view_name": "LayoutView",
      "align_content": null,
      "align_items": null,
      "align_self": null,
      "border": null,
      "bottom": null,
      "display": null,
      "flex": null,
      "flex_flow": null,
      "grid_area": null,
      "grid_auto_columns": null,
      "grid_auto_flow": null,
      "grid_auto_rows": null,
      "grid_column": null,
      "grid_gap": null,
      "grid_row": null,
      "grid_template_areas": null,
      "grid_template_columns": null,
      "grid_template_rows": null,
      "height": null,
      "justify_content": null,
      "justify_items": null,
      "left": null,
      "margin": null,
      "max_height": null,
      "max_width": null,
      "min_height": null,
      "min_width": null,
      "object_fit": null,
      "object_position": null,
      "order": null,
      "overflow": null,
      "overflow_x": null,
      "overflow_y": null,
      "padding": null,
      "right": null,
      "top": null,
      "visibility": null,
      "width": null
     }
    },
    "d734176038a34ef4893cf7a19786dcb3": {
     "model_module": "@jupyter-widgets/controls",
     "model_module_version": "1.5.0",
     "model_name": "FloatProgressModel",
     "state": {
      "_dom_classes": [],
      "_model_module": "@jupyter-widgets/controls",
      "_model_module_version": "1.5.0",
      "_model_name": "FloatProgressModel",
      "_view_count": null,
      "_view_module": "@jupyter-widgets/controls",
      "_view_module_version": "1.5.0",
      "_view_name": "ProgressView",
      "bar_style": "success",
      "description": "",
      "description_tooltip": null,
      "layout": "IPY_MODEL_611dfca4cbb84ade9e0f7aada8242a3e",
      "max": 3,
      "min": 0,
      "orientation": "horizontal",
      "style": "IPY_MODEL_2621b561a6da433cb824eefcfb3da3b6",
      "value": 3
     }
    },
    "e5b62d4bf67842639ec249b76740a42f": {
     "model_module": "@jupyter-widgets/controls",
     "model_module_version": "1.5.0",
     "model_name": "FloatProgressModel",
     "state": {
      "_dom_classes": [],
      "_model_module": "@jupyter-widgets/controls",
      "_model_module_version": "1.5.0",
      "_model_name": "FloatProgressModel",
      "_view_count": null,
      "_view_module": "@jupyter-widgets/controls",
      "_view_module_version": "1.5.0",
      "_view_name": "ProgressView",
      "bar_style": "success",
      "description": "",
      "description_tooltip": null,
      "layout": "IPY_MODEL_cbe1a31d588748c7ae56f60b5b5a336e",
      "max": 3,
      "min": 0,
      "orientation": "horizontal",
      "style": "IPY_MODEL_f373c4b0a12f45888d44b9d182b38ee6",
      "value": 3
     }
    },
    "e95a3213e061490f8ab810a9c39efb33": {
     "model_module": "@jupyter-widgets/base",
     "model_module_version": "1.2.0",
     "model_name": "LayoutModel",
     "state": {
      "_model_module": "@jupyter-widgets/base",
      "_model_module_version": "1.2.0",
      "_model_name": "LayoutModel",
      "_view_count": null,
      "_view_module": "@jupyter-widgets/base",
      "_view_module_version": "1.2.0",
      "_view_name": "LayoutView",
      "align_content": null,
      "align_items": null,
      "align_self": null,
      "border": null,
      "bottom": null,
      "display": null,
      "flex": null,
      "flex_flow": null,
      "grid_area": null,
      "grid_auto_columns": null,
      "grid_auto_flow": null,
      "grid_auto_rows": null,
      "grid_column": null,
      "grid_gap": null,
      "grid_row": null,
      "grid_template_areas": null,
      "grid_template_columns": null,
      "grid_template_rows": null,
      "height": null,
      "justify_content": null,
      "justify_items": null,
      "left": null,
      "margin": null,
      "max_height": null,
      "max_width": null,
      "min_height": null,
      "min_width": null,
      "object_fit": null,
      "object_position": null,
      "order": null,
      "overflow": null,
      "overflow_x": null,
      "overflow_y": null,
      "padding": null,
      "right": null,
      "top": null,
      "visibility": null,
      "width": null
     }
    },
    "f373c4b0a12f45888d44b9d182b38ee6": {
     "model_module": "@jupyter-widgets/controls",
     "model_module_version": "1.5.0",
     "model_name": "ProgressStyleModel",
     "state": {
      "_model_module": "@jupyter-widgets/controls",
      "_model_module_version": "1.5.0",
      "_model_name": "ProgressStyleModel",
      "_view_count": null,
      "_view_module": "@jupyter-widgets/base",
      "_view_module_version": "1.2.0",
      "_view_name": "StyleView",
      "bar_color": null,
      "description_width": ""
     }
    },
    "fbcc8887a40d4b7b980029f611d00afb": {
     "model_module": "@jupyter-widgets/controls",
     "model_module_version": "1.5.0",
     "model_name": "HTMLModel",
     "state": {
      "_dom_classes": [],
      "_model_module": "@jupyter-widgets/controls",
      "_model_module_version": "1.5.0",
      "_model_name": "HTMLModel",
      "_view_count": null,
      "_view_module": "@jupyter-widgets/controls",
      "_view_module_version": "1.5.0",
      "_view_name": "HTMLView",
      "description": "",
      "description_tooltip": null,
      "layout": "IPY_MODEL_837cd485cd9049d9a7164d4100228788",
      "placeholder": "​",
      "style": "IPY_MODEL_beeceb8eb6fc4268a0f48b9560c647a4",
      "value": "Eliminating: Earthquake: 100%"
     }
    },
    "feaea4ecc5c6439ab9483bd1d6eebab0": {
     "model_module": "@jupyter-widgets/controls",
     "model_module_version": "1.5.0",
     "model_name": "DescriptionStyleModel",
     "state": {
      "_model_module": "@jupyter-widgets/controls",
      "_model_module_version": "1.5.0",
      "_model_name": "DescriptionStyleModel",
      "_view_count": null,
      "_view_module": "@jupyter-widgets/base",
      "_view_module_version": "1.2.0",
      "_view_name": "StyleView",
      "description_width": ""
     }
    }
   }
  }
 },
 "nbformat": 4,
 "nbformat_minor": 0
}
